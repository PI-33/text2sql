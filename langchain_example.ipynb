{
 "cells": [
  {
   "cell_type": "markdown",
   "metadata": {},
   "source": [
    "在这个教程中我们将使用openai的模型"
   ]
  },
  {
   "cell_type": "code",
   "execution_count": 1,
   "metadata": {},
   "outputs": [],
   "source": [
    "import getpass\n",
    "import os\n",
    "if not os.environ.get(\"OPENAI_API_KEY\"):\n",
    "    os.environ[\"OPENAI_API_KEY\"] = getpass.getpass()\n",
    "# Comment out the below to opt-out of using LangSmith in this notebook. Not required.\n",
    "if not os.environ.get(\"LANGCHAIN_API_KEY\"):\n",
    "    os.environ[\"LANGCHAIN_API_KEY\"] = getpass.getpass()\n",
    "    os.environ[\"LANGCHAIN_TRACING_V2\"] = \"true\""
   ]
  },
  {
   "cell_type": "markdown",
   "metadata": {},
   "source": [
    "我们来看一下使用SQLite连接Chinook数据库，请按照以下安装步骤，在与此笔记本相同的目录中创建Chinook.db：\n",
    "\n",
    "- 下载保存文件到 `Chinook.sql`\n",
    "- 执行 `sqlite3 Chinook.db` 命令\n",
    "- 执行 `.read Chinook.sql` 命令\n",
    "- 测试查询`SELECT * FROM Artist LIMIT 10;`\n",
    "\n",
    "现在， `Chinook.db` 已经在我们的目录中，我们可以使用由SQLAlchemy驱动的SQLDatabase类与之交互："
   ]
  },
  {
   "cell_type": "code",
   "execution_count": 1,
   "metadata": {},
   "outputs": [
    {
     "name": "stdout",
     "output_type": "stream",
     "text": [
      "('3c5db3f9729998569150adceca0fc0ad', '2024-10-21 23:49:35', 93.5, '芝麻开门男士滋养紧致眼部精华露  15ml', '2')\n",
      "('3c0f0651639911a6de3ce6e72119b92f', '2024-10-30 00:00:00', 121, '芝麻开门男士新亮肤洁面膏 125ml', '1')\n",
      "('3c0f0651639911a6de3ce6e72119b92f', '2024-10-30 00:00:00', 107.8, '芝麻开门男士全新亮肤清透爽肤水  200ml', '1')\n",
      "('3c0f0651639911a6de3ce6e72119b92f', '2024-10-30 00:00:00', 173.8, '芝麻开门男士全新亮肤焕颜精华乳 50ml', '1')\n",
      "('0579c2b642401b5de69edbdf20d80b78', '2024-10-27 00:00:00', 34.1, '芝麻开门男士水动力爽肤水 200ml', '1')\n",
      "('6436ae0fe566d4b1b7d50840fc7863c2', '2024-10-18 12:47:19', 64.9, '芝麻开门男士淡纹焕肤精华水 150ml', '2')\n",
      "('08423bb1449d18580efeb603391abdf5', '2024-10-21 20:31:33', 93.5, '芝麻开门男士滋养紧致眼部精华露  15ml', '2')\n",
      "('b903bb994dc419747b9af476880f8b11', '2024-10-21 20:28:50', 93.5, '芝麻开门男士滋养紧致眼部精华露  15ml', '2')\n",
      "('36775c99f024740e68cffbee351244dd', '2024-10-21 20:27:17', 93.5, '芝麻开门男士滋养紧致眼部精华露  15ml', '2')\n",
      "('76fd63c06a56cecd6d14cf526ebcb901', '2024-10-21 20:41:01', 93.5, '芝麻开门男士滋养紧致眼部精华露  15ml', '2')\n"
     ]
    }
   ],
   "source": [
    "import sqlite3\n",
    "\n",
    "# 不需要下载和创建数据库的步骤，因为数据库已经存在\n",
    "# 直接连接到现有的订单数据库\n",
    "db_path = \"./data/order_database.db\"\n",
    "conn = sqlite3.connect(db_path)\n",
    "cursor = conn.cursor()\n",
    "\n",
    "\n",
    "# 运行测试查询，这里我们选择一些有意义的字段作为示例\n",
    "try:\n",
    "    cursor.execute(\"\"\"\n",
    "        SELECT\n",
    "            order_no,\n",
    "            order_time,\n",
    "            sales,\n",
    "            material_name_cn,\n",
    "            channel\n",
    "        FROM new_fact_order_detail\n",
    "        LIMIT 10;\n",
    "    \"\"\")\n",
    "    rows = cursor.fetchall()\n",
    "    for row in rows:\n",
    "        print(row)\n",
    "except Exception as e:\n",
    "    print(f\"Failed to run test query: {e}\")\n",
    "\n",
    "# 关闭连接\n",
    "conn.close()"
   ]
  },
  {
   "cell_type": "code",
   "execution_count": 3,
   "metadata": {},
   "outputs": [
    {
     "ename": "ProgrammingError",
     "evalue": "Cannot operate on a closed database.",
     "output_type": "error",
     "traceback": [
      "\u001b[0;31m---------------------------------------------------------------------------\u001b[0m",
      "\u001b[0;31mProgrammingError\u001b[0m                          Traceback (most recent call last)",
      "Cell \u001b[0;32mIn[3], line 2\u001b[0m\n\u001b[1;32m      1\u001b[0m \u001b[38;5;66;03m# 查看表结构\u001b[39;00m\n\u001b[0;32m----> 2\u001b[0m \u001b[43mcursor\u001b[49m\u001b[38;5;241;43m.\u001b[39;49m\u001b[43mexecute\u001b[49m\u001b[43m(\u001b[49m\u001b[38;5;124;43m\"\u001b[39;49m\u001b[38;5;124;43mPRAGMA table_info(new_fact_order_detail);\u001b[39;49m\u001b[38;5;124;43m\"\u001b[39;49m\u001b[43m)\u001b[49m\n\u001b[1;32m      3\u001b[0m table_info \u001b[38;5;241m=\u001b[39m cursor\u001b[38;5;241m.\u001b[39mfetchall()\n\u001b[1;32m      4\u001b[0m \u001b[38;5;28mprint\u001b[39m(\u001b[38;5;124m\"\u001b[39m\u001b[38;5;124mTable Structure:\u001b[39m\u001b[38;5;124m\"\u001b[39m)\n",
      "\u001b[0;31mProgrammingError\u001b[0m: Cannot operate on a closed database."
     ]
    }
   ],
   "source": [
    "# 查看表结构\n",
    "cursor.execute(\"PRAGMA table_info(new_fact_order_detail);\")\n",
    "table_info = cursor.fetchall()\n",
    "print(\"Table Structure:\")\n",
    "for column in table_info:\n",
    "    print(f\"Column: {column[1]}, Type: {column[2]}\")"
   ]
  },
  {
   "cell_type": "code",
   "execution_count": 12,
   "metadata": {},
   "outputs": [],
   "source": [
    "from langchain.llms.base import LLM\n",
    "from openai import OpenAI\n",
    "from langchain_community.llms.utils import enforce_stop_tokens\n",
    "import requests\n",
    "import os\n",
    "from typing import Optional\n",
    "from typing import Optional, List, Any\n",
    "from langchain.callbacks.manager import CallbackManagerForLLMRun\n",
    "from langchain_community.utilities import SQLDatabase"
   ]
  },
  {
   "cell_type": "code",
   "execution_count": 13,
   "metadata": {},
   "outputs": [],
   "source": [
    "# 使用相对路径\n",
    "db = SQLDatabase.from_uri(\"sqlite:///data/order_database.db\")"
   ]
  },
  {
   "cell_type": "code",
   "execution_count": 6,
   "metadata": {},
   "outputs": [
    {
     "data": {
      "text/plain": [
       "langchain_community.utilities.sql_database.SQLDatabase"
      ]
     },
     "execution_count": 6,
     "metadata": {},
     "output_type": "execute_result"
    }
   ],
   "source": [
    "type(db)"
   ]
  },
  {
   "cell_type": "code",
   "execution_count": 7,
   "metadata": {},
   "outputs": [],
   "source": [
    "context = db.get_context()"
   ]
  },
  {
   "cell_type": "code",
   "execution_count": 8,
   "metadata": {},
   "outputs": [
    {
     "data": {
      "text/plain": [
       "{'table_info': '\\nCREATE TABLE new_fact_order_detail (\\n\\torder_no VARCHAR(255), \\n\\torder_time TIMESTAMP, \\n\\torder_date DATE, \\n\\tbrand_code VARCHAR(255), \\n\\tprogram_code VARCHAR(255), \\n\\torder_type INTEGER, \\n\\tsales DECIMAL(18, 2), \\n\\titem_qty INTEGER, \\n\\titem_price DECIMAL(18, 2), \\n\\tchannel VARCHAR(255), \\n\\tsubchannel VARCHAR(255), \\n\\tsub_subchannel VARCHAR(255), \\n\\tmaterial_code VARCHAR(255), \\n\\tmaterial_name_cn VARCHAR(255), \\n\\tmaterial_type VARCHAR(255), \\n\\tmerged_c_code VARCHAR(255), \\n\\ttier_code VARCHAR(255), \\n\\tfirst_order_date DATE, \\n\\tis_mtd_active_member_flag INTEGER, \\n\\tytd_active_arr VARCHAR(255), \\n\\tr12_active_arr VARCHAR(255), \\n\\tmanager_counter_code VARCHAR(255), \\n\\tba_code VARCHAR(255), \\n\\tprovince_name VARCHAR(255), \\n\\tline_city_name VARCHAR(255), \\n\\tline_city_level VARCHAR(255), \\n\\tstore_no VARCHAR(255), \\n\\tterminal_name VARCHAR(255), \\n\\tterminal_code VARCHAR(255), \\n\\tterminal_region VARCHAR(255), \\n\\tdefault_flag INTEGER\\n)\\n\\n/*\\n3 rows from new_fact_order_detail table:\\norder_no\\torder_time\\torder_date\\tbrand_code\\tprogram_code\\torder_type\\tsales\\titem_qty\\titem_price\\tchannel\\tsubchannel\\tsub_subchannel\\tmaterial_code\\tmaterial_name_cn\\tmaterial_type\\tmerged_c_code\\ttier_code\\tfirst_order_date\\tis_mtd_active_member_flag\\tytd_active_arr\\tr12_active_arr\\tmanager_counter_code\\tba_code\\tprovince_name\\tline_city_name\\tline_city_level\\tstore_no\\tterminal_name\\tterminal_code\\tterminal_region\\tdefault_flag\\n3c5db3f9729998569150adceca0fc0ad\\t2024-10-21 23:49:35\\t2024-10-21\\t63\\te5b\\t1\\t93.50\\t2\\t46.75\\t2\\t203.0\\t203.0\\ta8340e7cddcce9dd6b3e0493c7542abe\\t芝麻开门男士滋养紧致眼部精华露  15ml\\t1\\tfe6419d664ae4cf579f6ede0927233f3\\tNone\\tNone\\t0\\t[0, 0, 0, 0, 0, 0, 0, 0, 0, 0, 0, 0]\\t[0, 0, 0, 0, 0, 0, 0, 0, 0, 0, 0, 0, 1]\\tNone\\tNone\\t四川省\\t内江市\\t三线\\tfe462881f8b6066050a29fa53be77e62\\t天猫(魔法)\\t74f6c8dfec3de1940624ae8504c13999\\tOnline Non Region\\t0\\n3c0f0651639911a6de3ce6e72119b92f\\t2024-10-30 00:00:00\\t2024-10-30\\t63\\te5b\\t1\\t121.00\\t4\\t30.25\\t1\\t101.0\\tNone\\td8400e0fb67e0bc199bf6f6bd307a72e\\t芝麻开门男士新亮肤洁面膏 125ml\\t1\\t04b49fdc0ef020e038f45054d884eb6c\\tc0c7c76d30bd3dcaefc96f40275bdc0a\\t2024-10-30\\t1\\t[0, 0, 0, 0, 0, 0, 0, 0, 0, 1, 1, 1]\\t[1, 1, 1, 1, 1, 1, 1, 1, 1, 1, 1, 1, 1]\\tb78921cf2efc504052ade6d2421c021e\\t0a7c46471d7c13f2cba9f5d9d2a1c5b9\\t江苏省\\t苏州市\\t三线\\tb78921cf2efc504052ade6d2421c021e\\t苏州狮山天街\\t1f9137dae71d22a19927a50d8d443c7e\\t东区\\t0\\n3c0f0651639911a6de3ce6e72119b92f\\t2024-10-30 00:00:00\\t2024-10-30\\t63\\te5b\\t1\\t107.80\\t4\\t26.95\\t1\\t101.0\\tNone\\taad772d69445b1a1df1eb3a1c76c3023\\t芝麻开门男士全新亮肤清透爽肤水  200ml\\t1\\t04b49fdc0ef020e038f45054d884eb6c\\tc0c7c76d30bd3dcaefc96f40275bdc0a\\t2024-10-30\\t1\\t[0, 0, 0, 0, 0, 0, 0, 0, 0, 1, 1, 1]\\t[1, 1, 1, 1, 1, 1, 1, 1, 1, 1, 1, 1, 1]\\tb78921cf2efc504052ade6d2421c021e\\t0a7c46471d7c13f2cba9f5d9d2a1c5b9\\t江苏省\\t苏州市\\t三线\\tb78921cf2efc504052ade6d2421c021e\\t苏州狮山天街\\t1f9137dae71d22a19927a50d8d443c7e\\t东区\\t0\\n*/',\n",
       " 'table_names': 'new_fact_order_detail'}"
      ]
     },
     "execution_count": 8,
     "metadata": {},
     "output_type": "execute_result"
    }
   ],
   "source": [
    "context"
   ]
  },
  {
   "cell_type": "code",
   "execution_count": 34,
   "metadata": {},
   "outputs": [],
   "source": [
    "\n",
    "# 设置API密钥和基础URL环境变量\n",
    "API_KEY = \"9f414214-5dda-48c5-8960-332b8125e086\"\n",
    "BASE_URL = \"https://api-inference.modelscope.cn/v1/\"\n",
    "\n",
    "class SiliconFlow(LLM):\n",
    "    def __init__(self):\n",
    "        super().__init__()\n",
    "\n",
    "    @property\n",
    "    def _llm_type(self) -> str:\n",
    "        \"\"\"返回 LLM 的类型标识符\"\"\"\n",
    "        return \"silicon_flow\"\n",
    "\n",
    "    def _call(\n",
    "        self,\n",
    "        prompt: str,\n",
    "        stop: Optional[List[str]] = None,\n",
    "        run_manager: Optional[CallbackManagerForLLMRun] = None,\n",
    "        **kwargs: Any,\n",
    "    ) -> str:\n",
    "        \"\"\"实现实际的 LLM 调用逻辑\"\"\"\n",
    "        # 初始化OpenAI客户端\n",
    "        client = OpenAI(api_key=API_KEY, base_url=BASE_URL)\n",
    "\n",
    "        # 发送请求到模型\n",
    "        response = client.chat.completions.create(\n",
    "            model='Qwen/Qwen2.5-Coder-32B-Instruct',\n",
    "            messages=[\n",
    "                {'role': 'user', 'content': prompt}\n",
    "            ],\n",
    "        )\n",
    "\n",
    "        # 收集响应内容\n",
    "        content = \"\"\n",
    "        if hasattr(response, 'choices') and response.choices:\n",
    "            for choice in response.choices:\n",
    "                if hasattr(choice, 'message') and hasattr(choice.message, 'content'):\n",
    "                    content += choice.message.content\n",
    "        else:\n",
    "            raise ValueError(\"Unexpected response structure\")\n",
    "\n",
    "        # 处理停止词\n",
    "        if stop is not None:\n",
    "            content = enforce_stop_tokens(content, stop)\n",
    "\n",
    "        return content"
   ]
  },
  {
   "cell_type": "code",
   "execution_count": 14,
   "metadata": {},
   "outputs": [
    {
     "name": "stdout",
     "output_type": "stream",
     "text": [
      "发送问题: 你好,请用简短的话介绍一下你自己\n",
      "\n",
      "收到回复: 你好！我是一个由阿里巴巴云开发的人工智能助手，旨在帮助回答问题、提供信息和支持各种任务。\n"
     ]
    }
   ],
   "source": [
    "from langchain.llms.base import LLM\n",
    "from openai import OpenAI\n",
    "from typing import Optional, List, Any\n",
    "from langchain.callbacks.manager import CallbackManagerForLLMRun\n",
    "\n",
    "# 设置API密钥和基础URL环境变量\n",
    "API_KEY = \"9f414214-5dda-48c5-8960-332b8125e086\"\n",
    "BASE_URL = \"https://api-inference.modelscope.cn/v1/\"\n",
    "\n",
    "class SiliconFlow(LLM):\n",
    "    def __init__(self):\n",
    "        super().__init__()\n",
    "\n",
    "    @property\n",
    "    def _llm_type(self) -> str:\n",
    "        return \"silicon_flow\"\n",
    "\n",
    "    def _call(\n",
    "        self,\n",
    "        prompt: str,\n",
    "        stop: Optional[List[str]] = None,\n",
    "        run_manager: Optional[CallbackManagerForLLMRun] = None,\n",
    "        **kwargs: Any,\n",
    "    ) -> str:\n",
    "        try:\n",
    "            client = OpenAI(\n",
    "                api_key=API_KEY,\n",
    "                base_url=BASE_URL  # 修改API路径\n",
    "            )\n",
    "\n",
    "            response = client.chat.completions.create(\n",
    "                model='Qwen/Qwen2.5-Coder-32B-Instruct',\n",
    "                messages=[\n",
    "                    {'role': 'user', 'content': prompt}\n",
    "                ],\n",
    "            )\n",
    "\n",
    "            content = \"\"\n",
    "            if hasattr(response, 'choices') and response.choices:\n",
    "                for choice in response.choices:\n",
    "                    if hasattr(choice, 'message') and hasattr(choice.message, 'content'):\n",
    "                        content += choice.message.content\n",
    "            else:\n",
    "                raise ValueError(\"Unexpected response structure\")\n",
    "\n",
    "            if stop is not None:\n",
    "                content = enforce_stop_tokens(content, stop)\n",
    "\n",
    "            return content\n",
    "        except Exception as e:\n",
    "            print(f\"API调用出错: {str(e)}\")\n",
    "            print(f\"完整错误: {e.__class__.__name__}\")\n",
    "            raise\n",
    "\n",
    "# 测试代码\n",
    "if __name__ == \"__main__\":\n",
    "    # 创建 LLM 实例\n",
    "    llm = SiliconFlow()\n",
    "\n",
    "    # 测试简单问题\n",
    "    test_prompt = \"你好,请用简短的话介绍一下你自己\"\n",
    "\n",
    "    print(\"发送问题:\", test_prompt)\n",
    "    try:\n",
    "        # 使用 invoke 方法替代直接调用\n",
    "        response = llm.invoke(test_prompt)\n",
    "        print(\"\\n收到回复:\", response)\n",
    "    except Exception as e:\n",
    "        print(\"发生错误:\", str(e))"
   ]
  },
  {
   "cell_type": "code",
   "execution_count": 9,
   "metadata": {},
   "outputs": [],
   "source": [
    "llm = SiliconFlow()"
   ]
  },
  {
   "cell_type": "code",
   "execution_count": 16,
   "metadata": {},
   "outputs": [
    {
     "data": {
      "text/plain": [
       "__main__.SiliconFlow"
      ]
     },
     "execution_count": 16,
     "metadata": {},
     "output_type": "execute_result"
    }
   ],
   "source": [
    "type(llm)"
   ]
  },
  {
   "cell_type": "code",
   "execution_count": 10,
   "metadata": {},
   "outputs": [
    {
     "name": "stdout",
     "output_type": "stream",
     "text": [
      "发送问题: 你好,请用简短的话介绍一下你自己\n"
     ]
    },
    {
     "name": "stderr",
     "output_type": "stream",
     "text": [
      "/localnvme/application/tangling/anaconda3/envs/sql/lib/python3.10/site-packages/langchain_core/_api/deprecation.py:139: LangChainDeprecationWarning: The method `BaseLLM.__call__` was deprecated in langchain-core 0.1.7 and will be removed in 0.3.0. Use invoke instead.\n",
      "  warn_deprecated(\n"
     ]
    },
    {
     "name": "stdout",
     "output_type": "stream",
     "text": [
      "\n",
      "收到回复: 你好！我是一个由阿里巴巴云开发的人工智能助手，旨在帮助用户回答问题、提供信息和完成各种任务。\n"
     ]
    }
   ],
   "source": [
    "llm = SiliconFlow()\n",
    "\n",
    "# 测试简单问题\n",
    "test_prompt = \"你好,请用简短的话介绍一下你自己\"\n",
    "\n",
    "print(\"发送问题:\", test_prompt)\n",
    "try:\n",
    "    response = llm(test_prompt)\n",
    "    print(\"\\n收到回复:\", response)\n",
    "except Exception as e:\n",
    "    print(\"发生错误:\", str(e))"
   ]
  },
  {
   "cell_type": "code",
   "execution_count": 41,
   "metadata": {},
   "outputs": [
    {
     "data": {
      "text/plain": [
       "'SQLQuery: SELECT \"sales\" FROM \"new_fact_order_detail\" ORDER BY \"sales\" DESC LIMIT 1'"
      ]
     },
     "execution_count": 41,
     "metadata": {},
     "output_type": "execute_result"
    }
   ],
   "source": [
    "from langchain.chains import create_sql_query_chain\n",
    "chain = create_sql_query_chain(llm, db)\n",
    "response = chain.invoke({\"question\": \"what is the highest sales\"})\n",
    "response"
   ]
  },
  {
   "cell_type": "code",
   "execution_count": 44,
   "metadata": {},
   "outputs": [
    {
     "data": {
      "text/plain": [
       "'[(275013.75,)]'"
      ]
     },
     "execution_count": 44,
     "metadata": {},
     "output_type": "execute_result"
    }
   ],
   "source": [
    "db.run('SELECT \"sales\" FROM \"new_fact_order_detail\" ORDER BY \"sales\" DESC LIMIT 1')"
   ]
  },
  {
   "cell_type": "code",
   "execution_count": 16,
   "metadata": {},
   "outputs": [
    {
     "name": "stdout",
     "output_type": "stream",
     "text": [
      "[(0,)]\n"
     ]
    }
   ],
   "source": [
    "from langchain_core.runnables import RunnableLambda\n",
    "\n",
    "# 定义清洗函数：去除 \"SQLQuery: \" 前缀\n",
    "def clean_sql_response(response: str) -> str:\n",
    "    # 检查前缀是否存在\n",
    "    if response.startswith(\"SQLQuery:\"):\n",
    "        # 提取前缀后的内容并去除首尾空格\n",
    "        return response.split(\"SQLQuery:\", 1)[1].strip()\n",
    "    return response  # 若无前缀，直接返回\n",
    "\n",
    "# 创建链的完整流程\n",
    "sql_chain = create_sql_query_chain(llm, db)\n",
    "execute_query = QuerySQLDataBaseTool(db=db)  # 确保已正确导入执行工具\n",
    "\n",
    "# 组合链：生成 SQL → 清洗 → 执行\n",
    "chain = sql_chain | RunnableLambda(clean_sql_response) | execute_query\n",
    "\n",
    "# 调用链\n",
    "result = chain.invoke({\"question\": \"what is the lowest sales\"})\n",
    "print(result)"
   ]
  },
  {
   "cell_type": "code",
   "execution_count": null,
   "metadata": {},
   "outputs": [
    {
     "name": "stdout",
     "output_type": "stream",
     "text": [
      "根据数据库返回的结果，有 116771 条订单。\n"
     ]
    }
   ],
   "source": [
    "from operator import itemgetter\n",
    "from langchain_core.output_parsers import StrOutputParser\n",
    "from langchain_core.prompts import PromptTemplate\n",
    "from langchain_core.runnables import RunnablePassthrough, RunnableLambda\n",
    "\n",
    "# ================ 1. 定义组件 ================\n",
    "# 假设以下组件已初始化\n",
    "# llm = ...\n",
    "# db = ...\n",
    "\n",
    "# SQL 生成链（原始输出含 \"SQLQuery: \" 前缀）\n",
    "write_query = create_sql_query_chain(llm, db)\n",
    "execute_query = QuerySQLDataBaseTool(db=db)\n",
    "\n",
    "# ================ 2. 数据处理函数 ================\n",
    "def clean_sql_response(response: str) -> str:\n",
    "    \"\"\"清洗 SQL 前缀\"\"\"\n",
    "    if response.startswith(\"SQLQuery:\"):\n",
    "        return response.split(\"SQLQuery:\", 1)[1].strip()\n",
    "    return response\n",
    "\n",
    "def format_result_wrapper(result: str) -> dict:\n",
    "    \"\"\"将执行结果包装为字典，保留原始 SQL 和结果\"\"\"\n",
    "    return {\"raw_result\": result}\n",
    "\n",
    "# ================ 3. 回答生成提示模板 ================\n",
    "answer_prompt = PromptTemplate.from_template(\n",
    "    \"\"\"基于以下信息回答问题：\n",
    "问题：{question}\n",
    "生成的 SQL 查询：{clean_query}\n",
    "数据库返回结果：{result}\n",
    "\n",
    "请用自然语言给出简洁答案。如果结果中的数值为 0，明确说明“没有记录”\"\"\"\n",
    ")\n",
    "\n",
    "# ================ 4. 构建完整链 ================\n",
    "chain = (\n",
    "    # 第一步：接收原始输入，保留问题字段\n",
    "    RunnablePassthrough.assign(question=lambda x: x[\"question\"])\n",
    "    # 第二步：生成并清洗 SQL\n",
    "    .assign(\n",
    "        clean_query=write_query | RunnableLambda(clean_sql_response)\n",
    "    )\n",
    "    # 第三步：执行 SQL 并包装结果\n",
    "    .assign(\n",
    "        result=itemgetter(\"clean_query\") | execute_query | RunnableLambda(format_result_wrapper)\n",
    "    )\n",
    "    # 第四步：组合所有数据到提示模板\n",
    "    | {\n",
    "        \"question\": itemgetter(\"question\"),\n",
    "        \"clean_query\": itemgetter(\"clean_query\"),\n",
    "        \"result\": itemgetter(\"result\")\n",
    "    }\n",
    "    | answer_prompt  # 填充模板\n",
    "    | llm  # 生成自然语言回答\n",
    "    | StrOutputParser()  # 解析输出\n",
    ")\n",
    "\n",
    "# ================ 5. 调用示例 ================\n",
    "response = chain.invoke({\"question\": \"How many orders are there\"})\n",
    "print(response)\n",
    "# 输出示例：根据数据库结果，可能为 \"当前共有42条订单记录\" 或 \"没有订单记录\""
   ]
  }
 ],
 "metadata": {
  "kernelspec": {
   "display_name": "sql",
   "language": "python",
   "name": "python3"
  },
  "language_info": {
   "codemirror_mode": {
    "name": "ipython",
    "version": 3
   },
   "file_extension": ".py",
   "mimetype": "text/x-python",
   "name": "python",
   "nbconvert_exporter": "python",
   "pygments_lexer": "ipython3",
   "version": "3.10.16"
  }
 },
 "nbformat": 4,
 "nbformat_minor": 2
}
